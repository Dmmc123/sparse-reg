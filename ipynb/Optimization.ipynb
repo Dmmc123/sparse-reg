{
 "cells": [
  {
   "cell_type": "code",
   "execution_count": 2,
   "metadata": {
    "collapsed": true
   },
   "outputs": [],
   "source": [
    "import torch\n",
    "from torch import Tensor"
   ]
  },
  {
   "cell_type": "code",
   "execution_count": null,
   "outputs": [],
   "source": [
    "def l0_norm(w: Tensor) -> Tensor:\n",
    "    return torch.count_nonzero(w)\n",
    "\n",
    "def l1_norm(w: Tensor) -> Tensor:\n",
    "    return torch.norm(w, p=1)\n",
    "\n",
    "def l2_norm(w: Tensor) -> Tensor:\n",
    "    return torch.norm(w, p=2)\n",
    "\n",
    "def mean_squared_error(y_hat: Tensor, y_true: Tensor) -> Tensor:\n",
    "    return torch.mean((y_hat - y_true) ** 2)\n",
    "\n",
    "def lasso(w: Tensor, y_hat: Tensor, y_true: Tensor) -> Tensor:\n",
    "    return mean_squared_error(y_hat, y_true) + l1_norm(w)\n",
    "\n",
    "def ridge(w: Tensor, y_hat: Tensor, y_true: Tensor) -> Tensor:\n",
    "    return mean_squared_error(y_hat, y_true) + l2_norm(w)"
   ],
   "metadata": {
    "collapsed": false
   }
  },
  {
   "cell_type": "code",
   "execution_count": null,
   "outputs": [],
   "source": [],
   "metadata": {
    "collapsed": false
   }
  }
 ],
 "metadata": {
  "kernelspec": {
   "display_name": "Python 3",
   "language": "python",
   "name": "python3"
  },
  "language_info": {
   "codemirror_mode": {
    "name": "ipython",
    "version": 2
   },
   "file_extension": ".py",
   "mimetype": "text/x-python",
   "name": "python",
   "nbconvert_exporter": "python",
   "pygments_lexer": "ipython2",
   "version": "2.7.6"
  }
 },
 "nbformat": 4,
 "nbformat_minor": 0
}
